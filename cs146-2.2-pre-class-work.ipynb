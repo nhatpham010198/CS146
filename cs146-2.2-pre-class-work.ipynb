{
 "cells": [
  {
   "cell_type": "markdown",
   "metadata": {},
   "source": [
    "# Call center data modeling\n",
    "\n",
    "You are advising a client on the number of call center agents they need to handle their customer support load. We start by modeling the number of phone calls we expect to come into the call center during each hour of the day.\n",
    "\n",
    "You are provided with a data set of the intervals between phone calls arriving during one day. Each value is a time in minutes indicating the amount of time that passed between receiving two consecutive phone calls.\n",
    "\n",
    "## Loading the data"
   ]
  },
  {
   "cell_type": "code",
   "execution_count": 26,
   "metadata": {},
   "outputs": [],
   "source": [
    "import random as rd\n",
    "import numpy as np\n",
    "import scipy as sp\n",
    "import scipy.stats as sts\n",
    "import matplotlib.pyplot as plt\n",
    "\n",
    "%matplotlib inline"
   ]
  },
  {
   "cell_type": "code",
   "execution_count": 3,
   "metadata": {},
   "outputs": [
    {
     "name": "stdout",
     "output_type": "stream",
     "text": [
      "Size of data set: 5856\n",
      "First 3 values in data set: [30.   3.4  3.2]\n",
      "Sum of data set: 1441.6838153800093\n"
     ]
    }
   ],
   "source": [
    "# Load the data set containing durations between calls arriving at the call\n",
    "# center during 1 day. All values are in minutes.\n",
    "waiting_times_day = np.loadtxt('call_center.csv')\n",
    "\n",
    "# Display some basic information about the data set.\n",
    "print('Size of data set:', len(waiting_times_day))\n",
    "print('First 3 values in data set:', waiting_times_day[:3])\n",
    "print('Sum of data set:', sum(waiting_times_day))"
   ]
  },
  {
   "cell_type": "markdown",
   "metadata": {},
   "source": [
    "Since the values are intervals between calls measured in minutes, this means\n",
    "\n",
    "* we assume the first call happened at 00:00 (midnight),\n",
    "* the second call happened at about 00:30 (30 minutes after midnight),\n",
    "* the third call happened at about 00:33 (30 + 3.4 minutes),\n",
    "* the fourth call happened at about 00:37, etc.\n",
    "\n",
    "When we sum the values, we get about 1440 minutes (1 day)."
   ]
  },
  {
   "cell_type": "markdown",
   "metadata": {},
   "source": [
    "You are told that the number of calls arriving varies quite a lot, depending on which hour of the day it is. The smallest number of calls usually occur around 3am or 4am. Most calls usually come in between 11am and 1pm.\n",
    "\n",
    "## Data pre-processing\n",
    "Since we expect different call rates during different hours, we split the data set into 24 separate series — one for each hour of the day."
   ]
  },
  {
   "cell_type": "code",
   "execution_count": 4,
   "metadata": {},
   "outputs": [
    {
     "name": "stdout",
     "output_type": "stream",
     "text": [
      "00:00-01:00 - 5 calls\n",
      "01:00-02:00 - 4 calls\n",
      "02:00-03:00 - 6 calls\n",
      "03:00-04:00 - 8 calls\n",
      "04:00-05:00 - 26 calls\n",
      "05:00-06:00 - 53 calls\n",
      "06:00-07:00 - 93 calls\n",
      "07:00-08:00 - 173 calls\n",
      "08:00-09:00 - 254 calls\n",
      "09:00-10:00 - 345 calls\n",
      "10:00-11:00 - 496 calls\n",
      "11:00-12:00 - 924 calls\n",
      "12:00-13:00 - 858 calls\n",
      "13:00-14:00 - 382 calls\n",
      "14:00-15:00 - 185 calls\n",
      "15:00-16:00 - 207 calls\n",
      "16:00-17:00 - 263 calls\n",
      "17:00-18:00 - 419 calls\n",
      "18:00-19:00 - 531 calls\n",
      "19:00-20:00 - 400 calls\n",
      "20:00-21:00 - 137 calls\n",
      "21:00-22:00 - 51 calls\n",
      "22:00-23:00 - 20 calls\n",
      "23:00-24:00 - 16 calls\n"
     ]
    }
   ],
   "source": [
    "# Make 24 empty lists, one per hour.\n",
    "waiting_times_per_hour = [[] for _ in range(24)]\n",
    "\n",
    "# Split the data into 24 separate series, one for each hour of the day.\n",
    "current_time = 0\n",
    "for t in waiting_times_day:\n",
    "    current_hour = int(current_time // 60)\n",
    "    current_time += t\n",
    "    waiting_times_per_hour[current_hour].append(t)\n",
    "\n",
    "for hour, calls_in_hour in enumerate(waiting_times_per_hour):\n",
    "    print(f'{hour:02}:00-{hour + 1:02}:00 - {len(calls_in_hour)} calls')"
   ]
  },
  {
   "cell_type": "markdown",
   "metadata": {},
   "source": [
    "## Task 1: Plot the number of calls per hour\n",
    "Use Matplotlib to visualize the number of calls that arrive during each hour of the day, stored in the variable `waiting_times_per_hour`. The call numbers are shown in the output above. You should find an appropriate way to visualize it."
   ]
  },
  {
   "cell_type": "code",
   "execution_count": 5,
   "metadata": {},
   "outputs": [
    {
     "name": "stdout",
     "output_type": "stream",
     "text": [
      "[2.7, 4.4, 11.0, 3.4, 0.027, 0.87, 3.6, 13.0, 3.0, 2.5, 0.77, 0.84, 2.4, 3.2, 1.2, 4.6]\n"
     ]
    }
   ],
   "source": [
    "print(calls_in_hour)"
   ]
  },
  {
   "cell_type": "code",
   "execution_count": 7,
   "metadata": {},
   "outputs": [
    {
     "data": {
      "text/plain": [
       "<BarContainer object of 24 artists>"
      ]
     },
     "execution_count": 7,
     "metadata": {},
     "output_type": "execute_result"
    },
    {
     "data": {
      "image/png": "[encoded data removed]",
      "text/plain": [
       "<Figure size 432x288 with 1 Axes>"
      ]
     },
     "metadata": {
      "needs_background": "light"
     },
     "output_type": "display_data"
    }
   ],
   "source": [
    "hour=[]\n",
    "freq=[]\n",
    "for i,j in enumerate(waiting_times_per_hour):\n",
    "    hour.append(i)\n",
    "    freq.append(len(waiting_times_per_hour[i]))\n",
    "    \n",
    "plt.bar(hour,freq)"
   ]
  },
  {
   "cell_type": "markdown",
   "metadata": {},
   "source": [
    "## Task 2: Plot a histogram of the durations for one hour\n",
    "Take the data for the 9th hour (so between 9am and 10am) and plot a histogram showing the distribution over waiting times between calls during that hour."
   ]
  },
  {
   "cell_type": "code",
   "execution_count": 12,
   "metadata": {},
   "outputs": [
    {
     "data": {
      "text/plain": [
       "(array([121.,  62.,  36.,  17.,  11.,   2.,   4.,   0.,   0.,   1.]),\n",
       " array([0.0033 , 0.15297, 0.30264, 0.45231, 0.60198, 0.75165, 0.90132,\n",
       "        1.05099, 1.20066, 1.35033, 1.5    ]),\n",
       " <a list of 10 Patch objects>)"
      ]
     },
     "execution_count": 12,
     "metadata": {},
     "output_type": "execute_result"
    },
    {
     "data": {
      "image/png": "[encoded data removed]",
      "text/plain": [
       "<Figure size 432x288 with 1 Axes>"
      ]
     },
     "metadata": {
      "needs_background": "light"
     },
     "output_type": "display_data"
    }
   ],
   "source": [
    "plt.hist(waiting_times_per_hour[8])"
   ]
  },
  {
   "cell_type": "markdown",
   "metadata": {
    "collapsed": true
   },
   "source": [
    "## Task 3: Guess the distribution\n",
    "What type of distribution best represents the data in your histogram?\n",
    "\n",
    "* Identify a type of distribution. **In class you will use this distribution as your likelihood function in a Bayesian inference problem.**\n",
    "* Guess what the parameters of the distribution are. (This is just a guess for now. In class we will infer the values of the parameters.)\n",
    "* Plot the pdf of your best guess on top of your histogram, to see if they match.\n",
    "* **Important:** You have to normalize your histogram so that it will have the same vertical scale as the plot of the pdf. You can normalize a histogram by using the argument `density=True` in the `hist` function."
   ]
  },
  {
   "cell_type": "code",
   "execution_count": 94,
   "metadata": {},
   "outputs": [
    {
     "name": "stdout",
     "output_type": "stream",
     "text": [
      "[67.2, 87.30000000000001, 137.8, 87.2, 128.4, 99.4, 75.1, 91.1, 73.7, 99.0, 111.60000000000001, 72.2, 122.30000000000001, 50.3, 57.2, 119.4, 89.0, 113.60000000000001, 60.0, 139.8, 134.7, 126.80000000000001, 65.2, 55.3, 135.60000000000002, 125.0, 63.5, 116.7, 53.5, 64.8, 73.2, 128.8, 69.1, 74.2, 139.60000000000002, 53.9, 138.10000000000002, 99.9, 61.400000000000006, 113.3, 43.0, 135.10000000000002, 41.3, 105.0, 124.4, 97.0, 62.0, 105.8, 83.9, 63.6, 59.1, 111.3, 76.5, 104.60000000000001, 96.1, 65.6, 105.7, 96.0, 118.9, 83.2, 137.2, 81.9, 98.0, 85.1, 136.8, 140.0, 62.1, 114.3, 106.2, 59.400000000000006, 80.0, 75.7, 99.80000000000001, 124.9, 61.6, 118.7, 72.7, 130.4, 55.9, 42.6, 45.6, 52.6, 126.5, 129.7, 50.7, 125.7, 110.8, 131.4, 94.6, 48.5, 127.30000000000001, 74.5, 40.8, 107.5, 128.2, 76.7, 87.7, 100.0, 58.900000000000006, 127.5]\n"
     ]
    },
    {
     "data": {
      "image/png": "[encoded data removed]",
      "text/plain": [
       "<Figure size 720x288 with 1 Axes>"
      ]
     },
     "metadata": {
      "needs_background": "light"
     },
     "output_type": "display_data"
    }
   ],
   "source": [
    "import statistics\n",
    "x_1=np.linspace(0,100,11)\n",
    "x_2=np.linspace(40,140,1001)\n",
    "plt.figure(figsize=(10,4))\n",
    "plt.plot(x_1, sts.norm.pdf(x_1,20,20),color='red')\n",
    "plt.plot(x_2, sts.norm.pdf(x_2,60,20),color='blue')\n",
    "pop = np.append( x_1, x_2).tolist()\n",
    "y=[]\n",
    "#for i in range(1,1000):\n",
    "x=rd.sample(pop,100)\n",
    "print(x)\n",
    "    #y=np.append(y,statistics.mean(x))\n",
    "#plt.hist(y)"
   ]
  },
  {
   "cell_type": "code",
   "execution_count": 129,
   "metadata": {},
   "outputs": [
    {
     "data": {
      "text/plain": [
       "(array([  53.,    0.,   39.,  102.,    0.,  110.,  110.,   49.,  198.,\n",
       "          54.,   85.,   60.,  168.,  352.,  189.,  659.,  490.,  528.,\n",
       "         602.,  463., 1092.,  907., 1162., 1056., 1561., 1685., 1529.,\n",
       "        1115., 1683., 1589., 1913., 2082., 1855., 1448., 2349., 1671.,\n",
       "        2253., 2056., 1584., 2029., 1539., 2000., 2390., 1329., 1577.,\n",
       "         939., 1174., 1443., 1136., 1068., 1206., 1050., 1186., 1462.,\n",
       "        1143., 1681., 1236., 1022., 1296., 1810., 1675., 1985., 2138.,\n",
       "        2080., 2297., 1824., 2180., 2183., 1823., 2288., 1671., 1370.,\n",
       "        1559., 1009., 1369., 1171.,  905., 1275., 1094.,  658.,  540.,\n",
       "         327.,  422.,  349.,   87.,  153.,  196.,   45.,  102.,    0.,\n",
       "         262.,    0.,    0.,   54.,   54.,    0.,   87.,    0.,    0.,\n",
       "          51.]),\n",
       " array([-2.55531430e+01, -2.35970690e+01, -2.16409950e+01, -1.96849209e+01,\n",
       "        -1.77288469e+01, -1.57727729e+01, -1.38166988e+01, -1.18606248e+01,\n",
       "        -9.90455078e+00, -7.94847675e+00, -5.99240272e+00, -4.03632869e+00,\n",
       "        -2.08025465e+00, -1.24180623e-01,  1.83189341e+00,  3.78796744e+00,\n",
       "         5.74404147e+00,  7.70011550e+00,  9.65618953e+00,  1.16122636e+01,\n",
       "         1.35683376e+01,  1.55244116e+01,  1.74804857e+01,  1.94365597e+01,\n",
       "         2.13926337e+01,  2.33487078e+01,  2.53047818e+01,  2.72608558e+01,\n",
       "         2.92169298e+01,  3.11730039e+01,  3.31290779e+01,  3.50851519e+01,\n",
       "         3.70412260e+01,  3.89973000e+01,  4.09533740e+01,  4.29094481e+01,\n",
       "         4.48655221e+01,  4.68215961e+01,  4.87776702e+01,  5.07337442e+01,\n",
       "         5.26898182e+01,  5.46458923e+01,  5.66019663e+01,  5.85580403e+01,\n",
       "         6.05141144e+01,  6.24701884e+01,  6.44262624e+01,  6.63823364e+01,\n",
       "         6.83384105e+01,  7.02944845e+01,  7.22505585e+01,  7.42066326e+01,\n",
       "         7.61627066e+01,  7.81187806e+01,  8.00748547e+01,  8.20309287e+01,\n",
       "         8.39870027e+01,  8.59430768e+01,  8.78991508e+01,  8.98552248e+01,\n",
       "         9.18112989e+01,  9.37673729e+01,  9.57234469e+01,  9.76795209e+01,\n",
       "         9.96355950e+01,  1.01591669e+02,  1.03547743e+02,  1.05503817e+02,\n",
       "         1.07459891e+02,  1.09415965e+02,  1.11372039e+02,  1.13328113e+02,\n",
       "         1.15284187e+02,  1.17240261e+02,  1.19196335e+02,  1.21152409e+02,\n",
       "         1.23108483e+02,  1.25064557e+02,  1.27020631e+02,  1.28976705e+02,\n",
       "         1.30932779e+02,  1.32888854e+02,  1.34844928e+02,  1.36801002e+02,\n",
       "         1.38757076e+02,  1.40713150e+02,  1.42669224e+02,  1.44625298e+02,\n",
       "         1.46581372e+02,  1.48537446e+02,  1.50493520e+02,  1.52449594e+02,\n",
       "         1.54405668e+02,  1.56361742e+02,  1.58317816e+02,  1.60273890e+02,\n",
       "         1.62229964e+02,  1.64186038e+02,  1.66142112e+02,  1.68098186e+02,\n",
       "         1.70054260e+02]),\n",
       " <a list of 100 Patch objects>)"
      ]
     },
     "execution_count": 129,
     "metadata": {},
     "output_type": "execute_result"
    },
    {
     "data": {
      "image/png": "[encoded data removed]",
      "text/plain": [
       "<Figure size 576x288 with 1 Axes>"
      ]
     },
     "metadata": {
      "needs_background": "light"
     },
     "output_type": "display_data"
    }
   ],
   "source": [
    "norm_1=np.random.normal(40,20,1001)\n",
    "norm_2=np.random.normal(100,20,1001)\n",
    "pop_norm=np.append(m_1,m_2).tolist()\n",
    "y_norm=[]\n",
    "for i in range(1,1000):\n",
    "    x_norm=rd.sample(pop_norm,100)\n",
    "    y_norm=np.append(y,x)\n",
    "plt.figure(figsize=(8,4))\n",
    "plt.hist(y_norm,bins=100,color='red',alpha=0.05)\n",
    "#plt.hist(m_1,bins=100,color='green',alpha=0.2)\n",
    "#plt.hist(m_2,bins=100,color='blue',alpha=0.2)\n",
    "\n"
   ]
  },
  {
   "cell_type": "code",
   "execution_count": 132,
   "metadata": {},
   "outputs": [
    {
     "data": {
      "text/plain": [
       "(array([  96.,   60.,    0.,  111.,    0.,  161.,    0.,  519.,  542.,\n",
       "           0., 1306.,    0., 2049.,    0., 2630.,    0., 3364., 4364.,\n",
       "           0., 3967.,    0., 4365.,    0., 4980.,    0., 4060., 3024.,\n",
       "           0., 3601.,    0., 3025.,    0., 2192., 2105.,    0., 1567.,\n",
       "           0., 1395.,    0., 1387.,    0., 1661., 1879.,    0., 1752.,\n",
       "           0., 1534.,    0., 1991.,    0., 1694., 3177.,    0., 3248.,\n",
       "           0., 2585.,    0., 3810., 2731.,    0., 3432.,    0., 3774.,\n",
       "           0., 3054.,    0., 2182., 2327.,    0., 1896.,    0., 2023.,\n",
       "           0.,  944.,  808.,    0.,  638.,    0.,  590.,    0.,  428.,\n",
       "           0.,  293.,   98.,    0.,  264.,    0.,   46.,    0.,   39.,\n",
       "           0.,   47.,   44.,    0.,    0.,    0.,    0.,    0.,    0.,\n",
       "          41.]),\n",
       " array([ 7.  ,  7.56,  8.12,  8.68,  9.24,  9.8 , 10.36, 10.92, 11.48,\n",
       "        12.04, 12.6 , 13.16, 13.72, 14.28, 14.84, 15.4 , 15.96, 16.52,\n",
       "        17.08, 17.64, 18.2 , 18.76, 19.32, 19.88, 20.44, 21.  , 21.56,\n",
       "        22.12, 22.68, 23.24, 23.8 , 24.36, 24.92, 25.48, 26.04, 26.6 ,\n",
       "        27.16, 27.72, 28.28, 28.84, 29.4 , 29.96, 30.52, 31.08, 31.64,\n",
       "        32.2 , 32.76, 33.32, 33.88, 34.44, 35.  , 35.56, 36.12, 36.68,\n",
       "        37.24, 37.8 , 38.36, 38.92, 39.48, 40.04, 40.6 , 41.16, 41.72,\n",
       "        42.28, 42.84, 43.4 , 43.96, 44.52, 45.08, 45.64, 46.2 , 46.76,\n",
       "        47.32, 47.88, 48.44, 49.  , 49.56, 50.12, 50.68, 51.24, 51.8 ,\n",
       "        52.36, 52.92, 53.48, 54.04, 54.6 , 55.16, 55.72, 56.28, 56.84,\n",
       "        57.4 , 57.96, 58.52, 59.08, 59.64, 60.2 , 60.76, 61.32, 61.88,\n",
       "        62.44, 63.  ]),\n",
       " <a list of 100 Patch objects>)"
      ]
     },
     "execution_count": 132,
     "metadata": {},
     "output_type": "execute_result"
    },
    {
     "data": {
      "image/png": "[encoded data removed]",
      "text/plain": [
       "<Figure size 576x288 with 1 Axes>"
      ]
     },
     "metadata": {
      "needs_background": "light"
     },
     "output_type": "display_data"
    }
   ],
   "source": [
    "poisson_1=np.random.poisson(40,1001)\n",
    "poisson_2=np.random.poisson(20,1001)\n",
    "pop_poisson=np.append(poisson_1,poisson_2).tolist()\n",
    "y_poisson=[]\n",
    "for i in range(1,1000):\n",
    "    x=rd.sample(pop_poisson,100)\n",
    "    y_poisson=np.append(y_poisson,x)\n",
    "plt.figure(figsize=(8,4))\n",
    "plt.hist(y_poisson,bins=100,color='red',alpha=0.1)"
   ]
  },
  {
   "cell_type": "code",
   "execution_count": 133,
   "metadata": {},
   "outputs": [
    {
     "data": {
      "text/plain": [
       "(array([ 402., 1554., 1679., 2257., 2838., 2789., 3146., 2313., 2666.,\n",
       "        3429., 2684., 2823., 3003., 3303., 3244., 3177., 2792., 3843.,\n",
       "        2496., 2700., 2399., 2675., 2029., 1890., 1988., 2671., 1783.,\n",
       "        1668., 2008., 1841., 1758., 1926., 1636., 1268., 1366., 1322.,\n",
       "        1517., 1244., 1004.,  773., 1073.,  793.,  546.,  786., 1082.,\n",
       "         727.,  872.,  375.,  474.,  357.,  461.,  347.,  464.,  526.,\n",
       "         324.,  192.,  284.,  269.,  210.,  149.,   46.,    0.,   87.,\n",
       "          33.,  148.,    0.,   86.,   37.,  106.,    0.,   52.,   55.,\n",
       "           0.,  106.,    0.,    0.,  104.,   46.,  120.,  110.,   63.,\n",
       "         151.,    0.,    0.,   43.,    0.,    0.,  101.,    0.,    0.,\n",
       "           0.,    0.,   49.,    0.,   46.,   52.,    0.,    0.,    0.,\n",
       "          44.]),\n",
       " array([2.66556008e-02, 2.99792579e-01, 5.72929558e-01, 8.46066536e-01,\n",
       "        1.11920351e+00, 1.39234049e+00, 1.66547747e+00, 1.93861445e+00,\n",
       "        2.21175143e+00, 2.48488841e+00, 2.75802539e+00, 3.03116236e+00,\n",
       "        3.30429934e+00, 3.57743632e+00, 3.85057330e+00, 4.12371028e+00,\n",
       "        4.39684726e+00, 4.66998424e+00, 4.94312121e+00, 5.21625819e+00,\n",
       "        5.48939517e+00, 5.76253215e+00, 6.03566913e+00, 6.30880611e+00,\n",
       "        6.58194308e+00, 6.85508006e+00, 7.12821704e+00, 7.40135402e+00,\n",
       "        7.67449100e+00, 7.94762798e+00, 8.22076496e+00, 8.49390193e+00,\n",
       "        8.76703891e+00, 9.04017589e+00, 9.31331287e+00, 9.58644985e+00,\n",
       "        9.85958683e+00, 1.01327238e+01, 1.04058608e+01, 1.06789978e+01,\n",
       "        1.09521347e+01, 1.12252717e+01, 1.14984087e+01, 1.17715457e+01,\n",
       "        1.20446827e+01, 1.23178196e+01, 1.25909566e+01, 1.28640936e+01,\n",
       "        1.31372306e+01, 1.34103675e+01, 1.36835045e+01, 1.39566415e+01,\n",
       "        1.42297785e+01, 1.45029155e+01, 1.47760524e+01, 1.50491894e+01,\n",
       "        1.53223264e+01, 1.55954634e+01, 1.58686004e+01, 1.61417373e+01,\n",
       "        1.64148743e+01, 1.66880113e+01, 1.69611483e+01, 1.72342852e+01,\n",
       "        1.75074222e+01, 1.77805592e+01, 1.80536962e+01, 1.83268332e+01,\n",
       "        1.85999701e+01, 1.88731071e+01, 1.91462441e+01, 1.94193811e+01,\n",
       "        1.96925181e+01, 1.99656550e+01, 2.02387920e+01, 2.05119290e+01,\n",
       "        2.07850660e+01, 2.10582029e+01, 2.13313399e+01, 2.16044769e+01,\n",
       "        2.18776139e+01, 2.21507509e+01, 2.24238878e+01, 2.26970248e+01,\n",
       "        2.29701618e+01, 2.32432988e+01, 2.35164358e+01, 2.37895727e+01,\n",
       "        2.40627097e+01, 2.43358467e+01, 2.46089837e+01, 2.48821206e+01,\n",
       "        2.51552576e+01, 2.54283946e+01, 2.57015316e+01, 2.59746686e+01,\n",
       "        2.62478055e+01, 2.65209425e+01, 2.67940795e+01, 2.70672165e+01,\n",
       "        2.73403534e+01]),\n",
       " <a list of 100 Patch objects>)"
      ]
     },
     "execution_count": 133,
     "metadata": {},
     "output_type": "execute_result"
    },
    {
     "data": {
      "image/png": "[encoded data removed]",
      "text/plain": [
       "<Figure size 576x288 with 1 Axes>"
      ]
     },
     "metadata": {
      "needs_background": "light"
     },
     "output_type": "display_data"
    }
   ],
   "source": [
    "gamma_1=np.random.gamma(4,2,1001)\n",
    "gamma_2=np.random.gamma(2,2,1001)\n",
    "pop_gamma=np.append(gamma_1,gamma_2).tolist()\n",
    "y_gamma=[]\n",
    "for i in range(1,1000):\n",
    "    x=rd.sample(pop_gamma,100)\n",
    "    y_gamma=np.append(y_gamma,x)\n",
    "plt.figure(figsize=(8,4))\n",
    "plt.hist(y_gamma,bins=100,color='red',alpha=0.1)"
   ]
  },
  {
   "cell_type": "code",
   "execution_count": null,
   "metadata": {},
   "outputs": [],
   "source": []
  }
 ],
 "metadata": {
  "kernelspec": {
   "display_name": "Python 3",
   "language": "python",
   "name": "python3"
  },
  "language_info": {
   "codemirror_mode": {
    "name": "ipython",
    "version": 3
   },
   "file_extension": ".py",
   "mimetype": "text/x-python",
   "name": "python",
   "nbconvert_exporter": "python",
   "pygments_lexer": "ipython3",
   "version": "3.7.3"
  }
 },
 "nbformat": 4,
 "nbformat_minor": 2
}
