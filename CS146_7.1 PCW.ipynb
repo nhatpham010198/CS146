{
 "cells": [
  {
   "cell_type": "markdown",
   "metadata": {},
   "source": [
    "Binomial because given a sample of 1000 we want to know what chances of getting different colors are"
   ]
  },
  {
   "cell_type": "code",
   "execution_count": 7,
   "metadata": {},
   "outputs": [
    {
     "name": "stdout",
     "output_type": "stream",
     "text": [
      "95% CI is [64.7611799  77.29827189]\n"
     ]
    },
    {
     "data": {
      "image/png": "[encoded data removed]",
      "text/plain": [
       "<Figure size 432x288 with 1 Axes>"
      ]
     },
     "metadata": {
      "needs_background": "light"
     },
     "output_type": "display_data"
    }
   ],
   "source": [
    "import numpy as np\n",
    "import scipy.stats as sts\n",
    "import matplotlib.pyplot as plt\n"
   ]
  },
  {
   "cell_type": "code",
   "execution_count": 14,
   "metadata": {},
   "outputs": [
    {
     "name": "stdout",
     "output_type": "stream",
     "text": [
      "95% CI is [66.05362377 77.65076785]\n",
      "z is 33.97428610546926\n"
     ]
    },
    {
     "data": {
      "image/png": "[encoded data removed]",
      "text/plain": [
       "<Figure size 432x288 with 1 Axes>"
      ]
     },
     "metadata": {
      "needs_background": "light"
     },
     "output_type": "display_data"
    }
   ],
   "source": [
    "n = 1000\n",
    "p = 0.1\n",
    "size = 10000\n",
    "sam = sts.norm.rvs(n*p, (n*p*(1-p))**0.5, size = size)\n",
    "plt.hist(sam, bins = 30)\n",
    "pctile = np.percentile(sam, [0.025,0.975])\n",
    "print ('95% CI is', pctile )\n",
    "z = (np.mean(sam)-pctile[0])//np.sqrt(np.var(sam)/len(sam))\n",
    "print ('z is', z)"
   ]
  },
  {
   "cell_type": "code",
   "execution_count": 3,
   "metadata": {},
   "outputs": [],
   "source": [
    "\n",
    "def CI(sample):\n",
    "    mu = np.mean(sample)\n",
    "    sd = np.sqrt(np.var(sample)/len(sample))\n",
    "    print ('95% CI is', '[', mu-1.96*sd, ', ', mu+1.96*sd, ']' )\n",
    "    "
   ]
  },
  {
   "cell_type": "code",
   "execution_count": 4,
   "metadata": {},
   "outputs": [
    {
     "name": "stdout",
     "output_type": "stream",
     "text": [
      "95% CI is [ 4.820898285628647 ,  5.179101714371352 ]\n"
     ]
    }
   ],
   "source": [
    "CI(np.linspace(0,10,1000))"
   ]
  },
  {
   "cell_type": "code",
   "execution_count": null,
   "metadata": {},
   "outputs": [],
   "source": []
  }
 ],
 "metadata": {
  "kernelspec": {
   "display_name": "Python 3",
   "language": "python",
   "name": "python3"
  },
  "language_info": {
   "codemirror_mode": {
    "name": "ipython",
    "version": 3
   },
   "file_extension": ".py",
   "mimetype": "text/x-python",
   "name": "python",
   "nbconvert_exporter": "python",
   "pygments_lexer": "ipython3",
   "version": "3.7.3"
  }
 },
 "nbformat": 4,
 "nbformat_minor": 2
}
